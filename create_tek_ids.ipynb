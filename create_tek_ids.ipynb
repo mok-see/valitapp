{
 "cells": [
  {
   "cell_type": "code",
   "execution_count": 13,
   "metadata": {},
   "outputs": [],
   "source": [
    "import ifcopenshell\n",
    "import ifctester\n",
    "from ifctester import reporter\n",
    "from ifctester import ids"
   ]
  },
  {
   "attachments": {},
   "cell_type": "markdown",
   "metadata": {},
   "source": [
    "# Lage IDS TEK\n",
    "\n",
    "[IDS docutmentation](https://github.com/buildingSMART/IDS/blob/master/Documentation) in buildingSMART github repo. \n",
    "\n",
    "[TEK og BIM miro tavle](https://miro.com/app/board/uXjVMRfSzQc=/)\n",
    "\n",
    "\n",
    "## Lage IDs IDS\n",
    "Start by folling the [metadata guidelines found here.](https://github.com/buildingSMART/IDS/blob/master/Documentation/ids-metadata.md)"
   ]
  },
  {
   "cell_type": "code",
   "execution_count": 14,
   "metadata": {},
   "outputs": [],
   "source": [
    "# create new IDS \n",
    "# ref https://github.com/buildingSMART/IDS/blob/master/Documentation/ids-metadata.md \n",
    "\n",
    "TEK_ids = ids.Ids(\n",
    "   title=\"TEK og BIM\",\n",
    "   author=\"sigve@mok-see.com\",\n",
    "   copyright=\"[mok-see] AS\",\n",
    "   version=\"0.01\",\n",
    "   purpose= \"Denne IDS filen er laget som en demonstrator for TEK og BIM for validering av §12-10 Bod og oppbevaringsplass\",\n",
    "   description=   \"Som en del av digitalisering av TEK er denne IDS (Information Delivery Specification) filen laget med bakgrunn i å kunne validere at BIM modeller tilfredstiller §12-10 Bod og oppbevaringsplass\",\n",
    "   milestone=\"MMI 500: As-Built\")\n"
   ]
  },
  {
   "attachments": {},
   "cell_type": "markdown",
   "metadata": {},
   "source": [
    "## Lage spesifikasjoner\n",
    "\n",
    "Spesifikasjonene som kreves i denne omgang er;\n",
    "1. Boenheten skal ha tilstrekkelig og egnet plass for oppbevaring av klær\n",
    "2. Boenheten skal ha tilstrekkelig og egnet plass for oppbevaring av mat"
   ]
  },
  {
   "cell_type": "code",
   "execution_count": 15,
   "metadata": {},
   "outputs": [],
   "source": [
    "# Oppbevaring av klær spesifikasjon\n",
    "oppbevaring_av_klar_spec = ids.Specification(\n",
    "    name=\"§12-10 (1) Plass til oppbevaring av klær\",\n",
    "    description= \"Boenheten skal ha tilstrekkelig og egnet plass for oppbevaring av klær\",\n",
    "    instructions=\"Produksjonsunderlag (BIM) må vise avsatt plass til oppbevaring av klær ved IfcSpatialZone eller IfcFurniture objekt.\",\n",
    "    minOccurs=1,\n",
    "    ifcVersion=\"IFC4\")\n",
    "\n",
    "oppbevaring_av_klar_spec.applicability.append(ids.Entity(name=\"IfcSpatialZone\"))\n",
    "#oppbevaring_av_klar_spec.applicability.append(ids.Entity(name=\"IfcFurniture\"))\n",
    "oppbevaring_av_klar_spec.applicability.append(ids.Attribute(name=\"ObjectType\",value=\"STORAGE_OF_CLOTHES\"))\n",
    "#oppbevaring_av_klar_spec.applicability.append(ids.Attribute(name=\"ObjectType\",value=\"WARDROBE\"))\n",
    "\n",
    "name = ids.Attribute(\n",
    "    name = \"Name\",\n",
    "    instructions=\"Name må være angitt\"\n",
    ")\n",
    "oppbevaring_av_klar_spec.requirements.append(name)\n",
    "\n",
    "longName = ids.Attribute(\n",
    "    name = \"LongName\",\n",
    "    instructions=\"LongName må være angitt\"\n",
    ")\n",
    "oppbevaring_av_klar_spec.requirements.append(longName)\n",
    "# Legge til spesifikasjon i IDS\n",
    "TEK_ids.specifications.append(oppbevaring_av_klar_spec)\n"
   ]
  },
  {
   "cell_type": "code",
   "execution_count": 16,
   "metadata": {},
   "outputs": [],
   "source": [
    "# Oppbevaring av mat spesifikasjon\n",
    "oppbevaring_av_torrmat_spec = ids.Specification(\n",
    "    name=\"§12-10 (2) (1) Plass til oppbevaring av mat (Tørrmat)\",\n",
    "    description= \"Boenheten skal ha tilstrekkelig og egnet plass for oppbevaring av tørrmat\",\n",
    "    instructions=\"Produksjonsunderlag (BIM) må vise avsatt plass til oppbevaring av tørrmat med riktig objekttype.\",\n",
    "    minOccurs=1,\n",
    "    ifcVersion=\"IFC4\")\n",
    "\n",
    "## Virker som at det bare kan være en Entity i Applicability, men at man kan ha andre typer facetter som legges til.. \n",
    "oppbevaring_av_torrmat_spec.applicability.append(ids.Entity(name = \"IfcSpatialZone\"))\n",
    "oppbevaring_av_torrmat_spec.applicability.append(ids.Attribute(\n",
    "    name=\"ObjectType\",value=\"STORAGE_DRY_FOOD\"))\n",
    "\n",
    "name = ids.Attribute(\n",
    "    name = \"Name\",\n",
    "    instructions=\"Name må være angitt\"\n",
    ")\n",
    "oppbevaring_av_torrmat_spec.requirements.append(name)\n",
    "\n",
    "longName = ids.Attribute(\n",
    "    name = \"LongName\",\n",
    "    instructions=\"LongName må være angitt\"\n",
    ")\n",
    "oppbevaring_av_torrmat_spec.requirements.append(longName)\n",
    "\n",
    "# Legge til spesifikasjon i IDS\n",
    "TEK_ids.specifications.append(oppbevaring_av_torrmat_spec)"
   ]
  },
  {
   "cell_type": "code",
   "execution_count": 17,
   "metadata": {},
   "outputs": [],
   "source": [
    "# Oppbevaring av mat spesifikasjon\n",
    "oppbevaring_av_kjolevarer_spec = ids.Specification(\n",
    "    name=\"§12-10 (2) (2) Plass til oppbevaring av mat (Kjølevarer)\",\n",
    "    description= \"Boenheten skal ha tilstrekkelig og egnet plass for oppbevaring av kjølevarer\",\n",
    "    instructions=\"Produksjonsunderlag (BIM) må vise avsatt plass til oppbevaring av kjølevarer med riktig object type.\",\n",
    "    minOccurs=1,\n",
    "    ifcVersion=\"IFC4\")\n",
    "\n",
    "oppbevaring_av_kjolevarer_spec.applicability.append(ids.Entity(name = \"IfcElectricAppliance\"))\n",
    "#oppbevaring_av_kjolevarer_spec.applicability.append(ids.Attribute(\n",
    "#    name=\"ObjectType\",value=\"STORAGE_REFRIGERATED_GOODS\"))\n",
    "#oppbevaring_av_kjolevarer_spec.applicability.append(ids.Attribute(name=\"ObjectType\",value=\"REFRIDGERATOR\"))\n",
    "oppbevaring_av_kjolevarer_spec.applicability.append(ids.Attribute(name=\"PredefinedType\",value=\"FRIDGE_FREEZER\"))\n",
    "\n",
    "name = ids.Attribute(\n",
    "    name = \"Name\",\n",
    "    instructions=\"Name må være angitt\"\n",
    ")\n",
    "oppbevaring_av_kjolevarer_spec.requirements.append(name)\n",
    "\n",
    "longName = ids.Attribute(\n",
    "    name = \"LongName\",\n",
    "    instructions=\"LongName må være angitt\"\n",
    ")\n",
    "oppbevaring_av_kjolevarer_spec.requirements.append(longName)\n",
    "\n",
    "# Legge til spesifikasjon i IDS\n",
    "TEK_ids.specifications.append(oppbevaring_av_kjolevarer_spec)"
   ]
  },
  {
   "cell_type": "code",
   "execution_count": 18,
   "metadata": {},
   "outputs": [
    {
     "data": {
      "text/plain": [
       "True"
      ]
     },
     "execution_count": 18,
     "metadata": {},
     "output_type": "execute_result"
    }
   ],
   "source": [
    "# Skriv til fil\n",
    "TEK_ids.to_xml(\"§12_10_TEK_IfcFuniture_and_IfcElectricAppliance_Error_LongName.ids\")"
   ]
  },
  {
   "cell_type": "code",
   "execution_count": 66,
   "metadata": {},
   "outputs": [],
   "source": [
    "file = ifcopenshell.open(\"tek-bim-v2.ifc\")\n",
    "tekids = ids.open(\"§12_10_TEK_v7.ids\")\n",
    "tekids.validate(file)"
   ]
  },
  {
   "cell_type": "code",
   "execution_count": 68,
   "metadata": {},
   "outputs": [
    {
     "name": "stdout",
     "output_type": "stream",
     "text": [
      "Kjøleskap\n",
      "FRIDGE_FREEZER\n",
      "\n",
      "\n"
     ]
    }
   ],
   "source": [
    "for obj in file.by_type(\"IfcElectricAppliance\"):\n",
    "    print(obj.Name)\n",
    "    print(obj.PredefinedType)\n",
    "    print(\"\\n\")"
   ]
  },
  {
   "cell_type": "code",
   "execution_count": null,
   "metadata": {},
   "outputs": [],
   "source": []
  }
 ],
 "metadata": {
  "kernelspec": {
   "display_name": "bimapp",
   "language": "python",
   "name": "python3"
  },
  "language_info": {
   "codemirror_mode": {
    "name": "ipython",
    "version": 3
   },
   "file_extension": ".py",
   "mimetype": "text/x-python",
   "name": "python",
   "nbconvert_exporter": "python",
   "pygments_lexer": "ipython3",
   "version": "3.10.9"
  },
  "orig_nbformat": 4,
  "vscode": {
   "interpreter": {
    "hash": "b48b1b8656d63699b4b9214dd3ffce6b77808fde2a4554ba9327695f6e146f4c"
   }
  }
 },
 "nbformat": 4,
 "nbformat_minor": 2
}
