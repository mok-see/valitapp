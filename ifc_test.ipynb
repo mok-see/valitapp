{
 "cells": [
  {
   "cell_type": "code",
   "execution_count": 16,
   "metadata": {},
   "outputs": [],
   "source": [
    "import ifcopenshell\n",
    "from ifctester import ids, reporter\n"
   ]
  },
  {
   "cell_type": "code",
   "execution_count": 17,
   "metadata": {},
   "outputs": [],
   "source": [
    "file = ifcopenshell.open(\"DiBK_test.ifc\")"
   ]
  },
  {
   "cell_type": "code",
   "execution_count": 18,
   "metadata": {},
   "outputs": [],
   "source": [
    "entities = file.by_type(\"IfcProduct\")"
   ]
  },
  {
   "cell_type": "code",
   "execution_count": 19,
   "metadata": {},
   "outputs": [
    {
     "name": "stdout",
     "output_type": "stream",
     "text": [
      "None\n",
      "None\n",
      "None\n",
      "STORAGE_REFRIGERATED_GOODS\n",
      "TØRRVARER\n",
      "OPPBEVARING AV TØRRVARER\n",
      "STORAGE_REFRIGERATED_GOODS\n",
      "STORAGE_CLOTHES\n"
     ]
    }
   ],
   "source": [
    "for e in entities:\n",
    "    print (e.ObjectType)"
   ]
  },
  {
   "cell_type": "code",
   "execution_count": 20,
   "metadata": {},
   "outputs": [
    {
     "data": {
      "text/plain": [
       "{'title': 'TEK og BIM',\n",
       " 'specifications': [{'name': '§12-10 (1) Plass til oppbevaring av klær',\n",
       "   'status': False,\n",
       "   'total_successes': 0,\n",
       "   'total': 0,\n",
       "   'percentage': 'N/A',\n",
       "   'required': True,\n",
       "   'requirements': [{'description': 'The LongName shall be OPPBEVARING AV KLÆR',\n",
       "     'status': False,\n",
       "     'failed_entities': []}]},\n",
       "  {'name': '§12-10 (2) Plass til oppbevaring av mat',\n",
       "   'status': True,\n",
       "   'total_successes': 0,\n",
       "   'total': 0,\n",
       "   'percentage': 'N/A',\n",
       "   'required': False,\n",
       "   'requirements': [{'description': 'The LongName shall be OPPBEVARING AV KJØLEVARER',\n",
       "     'status': True,\n",
       "     'failed_entities': []}]}]}"
      ]
     },
     "execution_count": 20,
     "metadata": {},
     "output_type": "execute_result"
    }
   ],
   "source": [
    "# validate IFC model against IDS requirements:\n",
    "idsToCheck = ids.open(\"§12_10 TEK.ids\")\n",
    "# validate IFC model against IDS requirements:\n",
    "idsToCheck.validate(file)\n",
    "\n",
    "# show results:\n",
    "reporter.Json(idsToCheck).report()"
   ]
  },
  {
   "cell_type": "code",
   "execution_count": 40,
   "metadata": {},
   "outputs": [
    {
     "data": {
      "text/plain": [
       "()"
      ]
     },
     "execution_count": 40,
     "metadata": {},
     "output_type": "execute_result"
    }
   ],
   "source": []
  },
  {
   "cell_type": "code",
   "execution_count": null,
   "metadata": {},
   "outputs": [],
   "source": []
  }
 ],
 "metadata": {
  "kernelspec": {
   "display_name": "valitapp",
   "language": "python",
   "name": "python3"
  },
  "language_info": {
   "codemirror_mode": {
    "name": "ipython",
    "version": 3
   },
   "file_extension": ".py",
   "mimetype": "text/x-python",
   "name": "python",
   "nbconvert_exporter": "python",
   "pygments_lexer": "ipython3",
   "version": "3.10.9"
  },
  "orig_nbformat": 4
 },
 "nbformat": 4,
 "nbformat_minor": 2
}
