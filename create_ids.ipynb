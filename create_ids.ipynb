{
 "cells": [
  {
   "cell_type": "code",
   "execution_count": 2,
   "metadata": {},
   "outputs": [],
   "source": [
    "import ifcopenshell\n",
    "import ifctester\n",
    "from ifctester import reporter\n",
    "from ifctester import ids\n"
   ]
  },
  {
   "attachments": {},
   "cell_type": "markdown",
   "metadata": {},
   "source": [
    "# Create the IDS Renhold (IDS Cleaning)\n",
    "\n",
    "[IDS docutmentation](https://github.com/buildingSMART/IDS/blob/master/Documentation) in buildingSMART github repo. \n",
    "\n",
    "\n",
    "## Create IDS\n",
    "Start by folling the [metadata guidelines found here.](https://github.com/buildingSMART/IDS/blob/master/Documentation/ids-metadata.md)"
   ]
  },
  {
   "cell_type": "code",
   "execution_count": 5,
   "metadata": {},
   "outputs": [],
   "source": [
    "# create new IDS \n",
    "# ref https://github.com/buildingSMART/IDS/blob/master/Documentation/ids-metadata.md \n",
    "my_ids = ids.Ids(title=\"IDS Renhold (IDS Cleaning)\",\n",
    "                 author=\"sigve@mok-see.com\",\n",
    "                 copyright=\"[mok-see] AS\",\n",
    "                 version=\"0.5\",\n",
    "                 purpose= \"Basis for estimating costs of cleaning using IFC models\",\n",
    "                 description=\"The Architectural IFC deliveries can be used to estimate costs of cleaning if it contains the \\\n",
    "                    required information as defined in this IDS. This can be used by realestate owners to require deliveries from \\\n",
    "                    architects and IFC models validated against this IDS can be provided as a basis for BIM based claning cost estimation.\\\n",
    "                    IDS created as part of a pilot project headed by the Norwegian Building Authority\",\n",
    "                 milestone=\"MMI 500: As-Built\")\n"
   ]
  },
  {
   "attachments": {},
   "cell_type": "markdown",
   "metadata": {},
   "source": [
    "## Create specifications"
   ]
  },
  {
   "cell_type": "code",
   "execution_count": 3,
   "metadata": {},
   "outputs": [],
   "source": [
    "\n",
    "\n",
    "# add specification to it\n",
    "attribute_spec = ids.Specification(name=\"Spesifikasjon: Navngivning\")\n",
    "attribute_spec.applicability.append(ids.Entity(name=\"IfcSpace\"))\n",
    "attribute1 = ids.Attribute(\n",
    "    name = \"Name\",\n",
    "    instructions=\"Rooms need to have a Name attribute\",\n",
    "    minOccurs=1\n",
    ")\n",
    "attribute_spec.requirements.append(attribute1)\n",
    "attribute2 = ids.Attribute(\n",
    "    name = \"LongName\",\n",
    "    instructions=\"Rooms need to have a LongName attribute\",\n",
    "    minOccurs=1\n",
    ")\n",
    "attribute_spec.requirements.append(attribute2)\n",
    "my_ids.specifications.append(attribute_spec)\n",
    "\n",
    "area_spec = ids.Specification(name=\"Spesifikasjon: Nettoareal\")\n",
    "area_spec.applicability.append(ids.Entity(name=\"IfcSpace\"))\n",
    "prop = ids.Property(\n",
    "    name=\"NetPlannedArea\", \n",
    "    propertySet=\"Pset_SpaceCommon\", \n",
    "    measure=\"IfcAreaMeasure\",\n",
    "    instructions=\"Rooms need to have NetPlannedArea.\",\n",
    "    minOccurs=1\n",
    "    )\n",
    "area_spec.requirements.append(prop)\n",
    "my_ids.specifications.append(area_spec)\n",
    "\n",
    "# Save such IDS to file\n",
    "result = my_ids.to_xml(\"renholds.ids\")"
   ]
  },
  {
   "cell_type": "code",
   "execution_count": 23,
   "metadata": {},
   "outputs": [
    {
     "data": {
      "text/plain": [
       "{'title': 'IDS Renhold',\n",
       " 'specifications': [{'name': 'Spesifikasjon: Navngivning',\n",
       "   'status': True,\n",
       "   'total_successes': 0,\n",
       "   'total': 0,\n",
       "   'percentage': 'N/A',\n",
       "   'required': False,\n",
       "   'requirements': [{'description': 'The Name shall be provided',\n",
       "     'status': True,\n",
       "     'failed_entities': []},\n",
       "    {'description': 'The LongName shall be provided',\n",
       "     'status': True,\n",
       "     'failed_entities': []}]}]}"
      ]
     },
     "execution_count": 23,
     "metadata": {},
     "output_type": "execute_result"
    }
   ],
   "source": [
    "# open  IFC file:\n",
    "my_ifc = ifcopenshell.open(\"ARK.ifc\")\n",
    "\n",
    "# validate IFC model against IDS requirements:\n",
    "my_ids.validate(my_ifc)\n",
    "\n",
    "# show results:\n",
    "reporter.Json(my_ids).report()"
   ]
  },
  {
   "cell_type": "code",
   "execution_count": 38,
   "metadata": {},
   "outputs": [
    {
     "name": "stdout",
     "output_type": "stream",
     "text": [
      "\u001b[;1m\u001b[1;34mIDS Renhold\n",
      "\u001b[;1m\u001b[0;32m[PASS] \u001b[;1m(393/393) Spesifikasjon: Navngivning\n",
      "\u001b[1;36m    Applies to:\n",
      "\u001b[0;0m        All IfcSpace data\n",
      "\u001b[1;36m    Requirements:\n",
      "\u001b[0;0m\u001b[0;0m\u001b[0;32m        The Name shall be provided\n",
      "\u001b[0;0m\u001b[0;0m\u001b[0;32m        The LongName shall be provided\n",
      "\u001b[0;0m\u001b[0;0m\u001b[0;0m"
     ]
    }
   ],
   "source": [
    "# open  IFC file:\n",
    "my_ifc2 = ifcopenshell.open(\"KPV-A.ifc\")\n",
    "\n",
    "# validate IFC model against IDS requirements:\n",
    "my_ids.validate(my_ifc2)\n",
    "\n",
    "# show results:\n",
    "reporter.Console(my_ids).report()"
   ]
  },
  {
   "cell_type": "code",
   "execution_count": 39,
   "metadata": {},
   "outputs": [],
   "source": [
    "ids2 = ids.open(\"SampleIDS2.xml\")"
   ]
  },
  {
   "cell_type": "code",
   "execution_count": 40,
   "metadata": {},
   "outputs": [],
   "source": [
    "ids2.validate(my_ifc2)"
   ]
  },
  {
   "cell_type": "code",
   "execution_count": 41,
   "metadata": {},
   "outputs": [
    {
     "data": {
      "text/plain": [
       "'<!--\\n    IfcTester - IDS based model auditing\\n    Copyright (C) 2022 Dion Moult <dion@thinkmoult.com>\\n\\n    This file is part of IfcTester.\\n\\n    IfcTester is free software: you can redistribute it and/or modify\\n    it under the terms of the GNU Lesser General Public License as published by\\n    the Free Software Foundation, either version 3 of the License, or\\n    (at your option) any later version.\\n\\n    IfcTester is distributed in the hope that it will be useful,\\n    but WITHOUT ANY WARRANTY; without even the implied warranty of\\n    MERCHANTABILITY or FITNESS FOR A PARTICULAR PURPOSE.  See the\\n    GNU Lesser General Public License for more details.\\n\\n    You should have received a copy of the GNU Lesser General Public License\\n    along with IfcTester.  If not, see <http://www.gnu.org/licenses/>.\\n-->\\n<!DOCTYPE html>\\n<html lang=>\\n<head>\\n    <meta charset=\"utf-8\" />\\n    <meta name=\"viewport\" content=\"width=device-width, initial-scale=1.0\">\\n    <meta name=\"description\" content=\"foobaro\">\\n    <title></title>\\n    <link href=\"https://fonts.googleapis.com/css?family=Comfortaa|Inconsolata|Open+Sans&display=swap\" rel=\"stylesheet\">\\n    <style>\\n        body { font-family: \\'Arial\\', sans-serif; padding: 10px 40px; }\\n        span.time { color: #999; font-style: italic; float: right; }\\n        span.step-time { float: right; color: #555; font-size: 0.8em; font-style: italic; }\\n        span.success { background-color: #97cc64; padding: 5px; border-radius: 5px; color: #FFF; font-weight: bold; }\\n        span.failure { background-color: #fb5a3e; padding: 5px; border-radius: 5px; color: #FFF; font-weight: bold; }\\n        p.failure { background-color: #fb5a3e; padding: 5px; border-radius: 5px; color: #fff; }\\n        p.unspecified { background-color: #994f00; padding: 5px; border-radius: 5px; color: #fff; }\\n        p.skipped { background-color: #8b8d8f; padding: 5px; border-radius: 5px; color: #fff; }\\n        p.description { background-color: #eee; border-radius: 5px; padding: 20px; margin-left: auto; margin-right: auto; display: inline-block; font-weight: bold;}\\n        li { padding: 10px; font-family: monospace; }\\n        li.success { background-color: #b6cca1; color: #333; }\\n        li.failure { background-color: #fbb4a8; color: #900; }\\n        li.unspecified { background-color: #ffd37f; color: #a30; }\\n        li.skipped { background-color: #f5f5f5; color: #333; }\\n        li p { margin-bottom: 0px; }\\n        footer { color: #999; font-size: 0.8em; }\\n        header { text-align: center; }\\n        hr { margin: 20px; margin-left: 0px; margin-right: 0px;  border: none; border-top: 1px solid #ccc; }\\n    </style>\\n</head>\\n<body>\\n    <header>\\n        <h1></h1>\\n        <p><strong></strong></p>\\n    </header>\\n    <hr>\\n    <footer>\\n        <p>\\n            Report by <a href=\"https://blenderbim.org/\">BlenderBIM</a> and <a href=\"http://ifcopenshell.org/\">IfcOpenShell</a>.\\n        </p>\\n    </footer>\\n</body>\\n</html>\\n'"
      ]
     },
     "execution_count": 41,
     "metadata": {},
     "output_type": "execute_result"
    }
   ],
   "source": [
    "\n",
    "\n",
    "reporter.Html(reporter.Html(ids2).report()).to_string()"
   ]
  },
  {
   "cell_type": "code",
   "execution_count": 42,
   "metadata": {},
   "outputs": [
    {
     "name": "stderr",
     "output_type": "stream",
     "text": [
      "/tmp/ipykernel_392208/3492823427.py:1: DeprecationWarning: Importing display from IPython.core.display is deprecated since IPython 7.14, please import from IPython display\n",
      "  from IPython.core.display import display, HTML\n"
     ]
    }
   ],
   "source": [
    "from IPython.core.display import display, HTML\n"
   ]
  },
  {
   "cell_type": "code",
   "execution_count": 43,
   "metadata": {},
   "outputs": [
    {
     "data": {
      "text/html": [
       "<!--\n",
       "    IfcTester - IDS based model auditing\n",
       "    Copyright (C) 2022 Dion Moult <dion@thinkmoult.com>\n",
       "\n",
       "    This file is part of IfcTester.\n",
       "\n",
       "    IfcTester is free software: you can redistribute it and/or modify\n",
       "    it under the terms of the GNU Lesser General Public License as published by\n",
       "    the Free Software Foundation, either version 3 of the License, or\n",
       "    (at your option) any later version.\n",
       "\n",
       "    IfcTester is distributed in the hope that it will be useful,\n",
       "    but WITHOUT ANY WARRANTY; without even the implied warranty of\n",
       "    MERCHANTABILITY or FITNESS FOR A PARTICULAR PURPOSE.  See the\n",
       "    GNU Lesser General Public License for more details.\n",
       "\n",
       "    You should have received a copy of the GNU Lesser General Public License\n",
       "    along with IfcTester.  If not, see <http://www.gnu.org/licenses/>.\n",
       "-->\n",
       "<!DOCTYPE html>\n",
       "<html lang=>\n",
       "<head>\n",
       "    <meta charset=\"utf-8\" />\n",
       "    <meta name=\"viewport\" content=\"width=device-width, initial-scale=1.0\">\n",
       "    <meta name=\"description\" content=\"foobaro\">\n",
       "    <title></title>\n",
       "    <link href=\"https://fonts.googleapis.com/css?family=Comfortaa|Inconsolata|Open+Sans&display=swap\" rel=\"stylesheet\">\n",
       "    <style>\n",
       "        body { font-family: 'Arial', sans-serif; padding: 10px 40px; }\n",
       "        span.time { color: #999; font-style: italic; float: right; }\n",
       "        span.step-time { float: right; color: #555; font-size: 0.8em; font-style: italic; }\n",
       "        span.success { background-color: #97cc64; padding: 5px; border-radius: 5px; color: #FFF; font-weight: bold; }\n",
       "        span.failure { background-color: #fb5a3e; padding: 5px; border-radius: 5px; color: #FFF; font-weight: bold; }\n",
       "        p.failure { background-color: #fb5a3e; padding: 5px; border-radius: 5px; color: #fff; }\n",
       "        p.unspecified { background-color: #994f00; padding: 5px; border-radius: 5px; color: #fff; }\n",
       "        p.skipped { background-color: #8b8d8f; padding: 5px; border-radius: 5px; color: #fff; }\n",
       "        p.description { background-color: #eee; border-radius: 5px; padding: 20px; margin-left: auto; margin-right: auto; display: inline-block; font-weight: bold;}\n",
       "        li { padding: 10px; font-family: monospace; }\n",
       "        li.success { background-color: #b6cca1; color: #333; }\n",
       "        li.failure { background-color: #fbb4a8; color: #900; }\n",
       "        li.unspecified { background-color: #ffd37f; color: #a30; }\n",
       "        li.skipped { background-color: #f5f5f5; color: #333; }\n",
       "        li p { margin-bottom: 0px; }\n",
       "        footer { color: #999; font-size: 0.8em; }\n",
       "        header { text-align: center; }\n",
       "        hr { margin: 20px; margin-left: 0px; margin-right: 0px;  border: none; border-top: 1px solid #ccc; }\n",
       "    </style>\n",
       "</head>\n",
       "<body>\n",
       "    <header>\n",
       "        <h1>IDS Renhold</h1>\n",
       "        <p><strong>2023-03-12 16:54:02</strong></p>\n",
       "    </header>\n",
       "    <section>\n",
       "        <h2>Spesifikasjon: Navngivning</h2>\n",
       "        <p>\n",
       "            <span class=\"success\">Pass</span>\n",
       "            Passed: <strong>393 / 393</strong> (100%)\n",
       "        </p>\n",
       "        <ol>\n",
       "            <li class=\"success\">\n",
       "                The Name shall be provided\n",
       "                \n",
       "            </li>\n",
       "            <li class=\"success\">\n",
       "                The LongName shall be provided\n",
       "                \n",
       "            </li>\n",
       "        </ol>\n",
       "    </section>\n",
       "    <hr>\n",
       "    <footer>\n",
       "        <p>\n",
       "            Report by <a href=\"https://blenderbim.org/\">BlenderBIM</a> and <a href=\"http://ifcopenshell.org/\">IfcOpenShell</a>.\n",
       "        </p>\n",
       "    </footer>\n",
       "</body>\n",
       "</html>\n"
      ],
      "text/plain": [
       "<IPython.core.display.HTML object>"
      ]
     },
     "metadata": {},
     "output_type": "display_data"
    }
   ],
   "source": [
    "engine = reporter.Html(ids2)\n",
    "engine.report()\n",
    "\n",
    "display(HTML(engine.to_string()))"
   ]
  },
  {
   "cell_type": "code",
   "execution_count": null,
   "metadata": {},
   "outputs": [],
   "source": []
  }
 ],
 "metadata": {
  "kernelspec": {
   "display_name": "bimapp",
   "language": "python",
   "name": "python3"
  },
  "language_info": {
   "codemirror_mode": {
    "name": "ipython",
    "version": 3
   },
   "file_extension": ".py",
   "mimetype": "text/x-python",
   "name": "python",
   "nbconvert_exporter": "python",
   "pygments_lexer": "ipython3",
   "version": "3.10.9"
  },
  "orig_nbformat": 4,
  "vscode": {
   "interpreter": {
    "hash": "b48b1b8656d63699b4b9214dd3ffce6b77808fde2a4554ba9327695f6e146f4c"
   }
  }
 },
 "nbformat": 4,
 "nbformat_minor": 2
}
